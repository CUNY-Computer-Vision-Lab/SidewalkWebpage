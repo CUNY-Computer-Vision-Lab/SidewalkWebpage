{
 "cells": [
  {
   "cell_type": "code",
   "execution_count": 1,
   "metadata": {
    "collapsed": false
   },
   "outputs": [],
   "source": [
    "#!/usr/bin/python\n",
    "import psycopg2\n",
    "import numpy as np\n",
    "import time\n",
    "\n",
    "\n",
    "def CreateTables(cur):\n",
    "    for command in create_tables:\n",
    "        cur.execute(command)\n",
    "\n",
    "def DropTables(cur):\n",
    "    for command in drop_tables:\n",
    "        cur.execute(command)\n",
    "\n",
    "def getNumber(cur):\n",
    "    get_number = [\n",
    "    \"\"\"\n",
    "    select l.label_type_id, count(*)\n",
    "    from sidewalk.label l, sidewalk.problem_severity ps, sidewalk.label_point p\n",
    "    where l.label_id = ps.label_id and ps.label_id = p.label_id\n",
    "    group by l.label_type_id;\n",
    "    \"\"\"\n",
    "    ]\n",
    "\n",
    "    for command in get_number:\n",
    "        cur.execute(command)\n",
    "        rows = cur.fetchall()\n",
    "        num = np.zeros(7)\n",
    "        for row in rows:\n",
    "            num[int(row[0])-1]=int(row[1])\n",
    "    return num\n",
    "\n",
    "\n",
    "def getAllPoints(cur):\n",
    "    get_all_points = []\n",
    "    for i in range(7):\n",
    "        get_all_points.append(\n",
    "        \"\"\"\n",
    "        select distinct ps.label_id, ps.severity\n",
    "        from sidewalk.label l, sidewalk.problem_severity ps, sidewalk.label_point p\n",
    "        where l.label_id = ps.label_id and ps.label_id = p.label_id and l.label_type_id = {}\n",
    "        order by ps.severity DESC\n",
    "        \"\"\".format(i+1)\n",
    "        )\n",
    "\n",
    "    allPoint = []\n",
    "    for command in get_all_points:\n",
    "        cur.execute(command)\n",
    "        rows = cur.fetchall()\n",
    "        allPoint.append(np.zeros(len(rows)))\n",
    "        index = 0\n",
    "        for row in rows:\n",
    "            allPoint[-1][index] = np.array(row[0])\n",
    "            index = index+1\n",
    "    return allPoint\n",
    "\n",
    "def calculateZoomLevel(LABEL_TYPE,ZOOM_LEVEL,allPoints,VisNum):\n",
    "    zoomLevel = []\n",
    "    for i in range(LABEL_TYPE):\n",
    "        for j in range(allPoints[i].shape[0]):\n",
    "            for z in range(ZOOM_LEVEL):\n",
    "                if j<=VisNum[z,i]:\n",
    "                    zoomLevel.append([int(allPoints[i][j]),z])\n",
    "    return zoomLevel\n",
    "\n",
    "def addZoomLevel(cur,zoomLevel):\n",
    "    for point in zoomLevel:\n",
    "        cur.execute(\"INSERT INTO sidewalk.label_presampled VALUES (%d, %d);\"%(point[0],point[1]))\n",
    "\n",
    "def seperateTables(cur,ZOOM_LEVEL):\n",
    "    for z in range(ZOOM_LEVEL):\n",
    "        cur.execute(\n",
    "        \"\"\"\n",
    "        INSERT INTO sidewalk.label_presampled_z%d(\n",
    "        SELECT ps.label_id\n",
    "        FROM sidewalk.label_presampled ps\n",
    "        WHERE ps.zoom_level = %d\n",
    "        );\n",
    "        \"\"\"%(z,z)\n",
    "        )\n",
    "\n",
    "def clean_tables(cur):\n",
    "    cur.execute(\n",
    "    \"\"\"\n",
    "    truncate table label_presampled;\n",
    "    \"\"\"\n",
    "    )\n",
    "\n",
    "def query(cur):\n",
    "    queries = [\n",
    "    \"\"\"\n",
    "    SELECT l.label_id\n",
    "    FROM sidewalk.label l, sidewalk.label_presampled lp\n",
    "    WHERE l.label_id = lp.label_id and lp.zoom_level = 6\n",
    "    and l.panorama_lat>38.87 and l.panorama_lat<38.95\n",
    "    and l.panorama_lng>-77.5 and l.panorama_lng<-77;\n",
    "    \"\"\"\n",
    "    ]\n",
    "\n",
    "def buildRtree(cur):\n",
    "    cur.execute(\n",
    "    \"\"\"\n",
    "    DROP INDEX IF EXISTS rt;\n",
    "    CREATE INDEX rt ON sidewalk.label(panorama_lat,panorama_lng);\n",
    "    \"\"\"\n",
    "    )\n",
    "\n",
    "def dropRtree(cur):\n",
    "    cur.execute(\n",
    "    \"\"\"\n",
    "    DROP INDEX rt ON sidewalk.label;\n",
    "    \"\"\"\n",
    "    )\n",
    "\n",
    "\n",
    "def test(cur):\n",
    "    begin_time = time.time()\n",
    "    for i in range(100):\n",
    "        query(cur)\n",
    "    end_time = time.time()\n",
    "    print(\"Query time without index= \", end_time - begin_time)\n",
    "\n",
    "    buildRtree(cur)\n",
    "    begin_time = time.time()\n",
    "    for i in range(100):\n",
    "        query(cur)\n",
    "    end_time = time.time()\n",
    "    print(\"Query time with index = \", end_time - begin_time)\n",
    "\n",
    "\n",
    "\n",
    "\n",
    "\n",
    "\n"
   ]
  },
  {
   "cell_type": "code",
   "execution_count": 2,
   "metadata": {
    "collapsed": false
   },
   "outputs": [
    {
     "name": "stdout",
     "output_type": "stream",
     "text": [
      "creat\n"
     ]
    },
    {
     "data": {
      "text/plain": [
       "array([  5.57410000e+04,   6.87900000e+03,   6.39300000e+03,\n",
       "         4.11400000e+03,   1.94000000e+02,   0.00000000e+00,\n",
       "         7.00000000e+00])"
      ]
     },
     "execution_count": 2,
     "metadata": {},
     "output_type": "execute_result"
    }
   ],
   "source": [
    "ZOOM_LEVEL = 8\n",
    "LABEL_TYPE = 7\n",
    "SampDeg = 0.6\n",
    "try:\n",
    "    conn = psycopg2.connect(\"dbname='sidewalk' user='sidewalk' host='localhost' port='5433' password='sidewalk'\")\n",
    "except psycopg2.Error:\n",
    "    print(\"I am unable to connect to the database\")\n",
    "cur = conn.cursor()\n",
    "print(\"creat\")\n",
    "clean_tables(cur)\n",
    "getNumber(cur)\n"
   ]
  },
  {
   "cell_type": "code",
   "execution_count": 3,
   "metadata": {
    "collapsed": false
   },
   "outputs": [
    {
     "name": "stdout",
     "output_type": "stream",
     "text": [
      "[[  1.56039126e+03   1.92567974e+02   1.78963085e+02   1.15165670e+02\n",
      "    5.43075840e+00   0.00000000e+00   1.95955200e-01]\n",
      " [  2.60065210e+03   3.20946624e+02   2.98271808e+02   1.91942784e+02\n",
      "    9.05126400e+00   0.00000000e+00   3.26592000e-01]\n",
      " [  4.33442016e+03   5.34911040e+02   4.97119680e+02   3.19904640e+02\n",
      "    1.50854400e+01   0.00000000e+00   5.44320000e-01]\n",
      " [  7.22403360e+03   8.91518400e+02   8.28532800e+02   5.33174400e+02\n",
      "    2.51424000e+01   0.00000000e+00   9.07200000e-01]\n",
      " [  1.20400560e+04   1.48586400e+03   1.38088800e+03   8.88624000e+02\n",
      "    4.19040000e+01   0.00000000e+00   1.51200000e+00]\n",
      " [  2.00667600e+04   2.47644000e+03   2.30148000e+03   1.48104000e+03\n",
      "    6.98400000e+01   0.00000000e+00   2.52000000e+00]\n",
      " [  3.34446000e+04   4.12740000e+03   3.83580000e+03   2.46840000e+03\n",
      "    1.16400000e+02   0.00000000e+00   4.20000000e+00]\n",
      " [  5.57410000e+04   6.87900000e+03   6.39300000e+03   4.11400000e+03\n",
      "    1.94000000e+02   0.00000000e+00   7.00000000e+00]]\n"
     ]
    }
   ],
   "source": [
    "VisNum = np.zeros((ZOOM_LEVEL,LABEL_TYPE))\n",
    "VisNum[ZOOM_LEVEL-1] = getNumber(cur)\n",
    "for i in range(ZOOM_LEVEL-1):\n",
    "    VisNum[ZOOM_LEVEL-2-i] = VisNum[ZOOM_LEVEL-1-i]*SampDeg\n",
    "\n",
    "VisNum.astype(int)\n",
    "print(VisNum)\n",
    "allPoints = getAllPoints(cur)\n",
    "zoomLevel = calculateZoomLevel(LABEL_TYPE,ZOOM_LEVEL,allPoints,VisNum)\n",
    "addZoomLevel(cur,zoomLevel)\n",
    "\n"
   ]
  },
  {
   "cell_type": "code",
   "execution_count": null,
   "metadata": {
    "collapsed": false,
    "scrolled": false
   },
   "outputs": [],
   "source": [
    "np.savetxt(\"total.csv\", VisNum, delimiter=\",\")"
   ]
  },
  {
   "cell_type": "code",
   "execution_count": 4,
   "metadata": {
    "collapsed": false
   },
   "outputs": [],
   "source": [
    "cur.execute(\n",
    "    \"\"\"\n",
    "    DROP TABLE IF EXISTS reg_lab;\n",
    "    CREATE TABLE reg_lab(label_id int,region_id int);\n",
    "    insert into reg_lab\n",
    "    SELECT label.label_id,max(region.region_id)\n",
    "    FROM sidewalk.street_edge\n",
    "    INNER JOIN sidewalk.region\n",
    "    ON ST_Intersects(street_edge.geom, region.geom)\n",
    "    INNER JOIN sidewalk.audit_task\n",
    "    ON audit_task.street_edge_id = street_edge.street_edge_id\n",
    "    INNER JOIN sidewalk.label\n",
    "    ON label.audit_task_id=audit_task.audit_task_id\n",
    "    WHERE region.deleted = FALSE AND street_edge.deleted=FALSE\n",
    "    GROUP BY label.label_id;\n",
    "    \"\"\"\n",
    ")\n"
   ]
  },
  {
   "cell_type": "code",
   "execution_count": 5,
   "metadata": {
    "collapsed": true
   },
   "outputs": [],
   "source": [
    "cur.execute(\n",
    "    \"\"\"\n",
    "    SELECT lp.label_id, lp.zoom_level, l.label_type_id\n",
    "    FROM reg_lab rl, sidewalk.label_presampled lp, sidewalk.label l\n",
    "    WHERE rl.label_id = lp.label_id and rl.region_id = 205 and l.label_id = rl.label_id\n",
    "    \"\"\"\n",
    ")\n",
    "rows = cur.fetchall()"
   ]
  },
  {
   "cell_type": "code",
   "execution_count": 7,
   "metadata": {
    "collapsed": false
   },
   "outputs": [],
   "source": [
    "VisNum = np.zeros((ZOOM_LEVEL,LABEL_TYPE))\n",
    "for row in rows:\n",
    "    VisNum[row[1]][row[2]] += 1  \n",
    "\n",
    "np.savetxt(\"205.csv\", VisNum, delimiter=\",\")"
   ]
  },
  {
   "cell_type": "code",
   "execution_count": null,
   "metadata": {
    "collapsed": true
   },
   "outputs": [],
   "source": []
  }
 ],
 "metadata": {
  "anaconda-cloud": {},
  "kernelspec": {
   "display_name": "Python [default]",
   "language": "python",
   "name": "python3"
  },
  "language_info": {
   "codemirror_mode": {
    "name": "ipython",
    "version": 3
   },
   "file_extension": ".py",
   "mimetype": "text/x-python",
   "name": "python",
   "nbconvert_exporter": "python",
   "pygments_lexer": "ipython3",
   "version": "3.5.2"
  }
 },
 "nbformat": 4,
 "nbformat_minor": 1
}
